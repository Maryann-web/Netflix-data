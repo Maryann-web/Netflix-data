{
 "cells": [
  {
   "cell_type": "code",
   "execution_count": 2,
   "metadata": {},
   "outputs": [],
   "source": [
    "import pandas as pd\n",
    "import numpy as np\n",
    "import matplotlib.pyplot as plt\n",
    "import seaborn as sn"
   ]
  },
  {
   "cell_type": "code",
   "execution_count": 3,
   "metadata": {},
   "outputs": [
    {
     "data": {
      "text/html": [
       "<div>\n",
       "<style scoped>\n",
       "    .dataframe tbody tr th:only-of-type {\n",
       "        vertical-align: middle;\n",
       "    }\n",
       "\n",
       "    .dataframe tbody tr th {\n",
       "        vertical-align: top;\n",
       "    }\n",
       "\n",
       "    .dataframe thead th {\n",
       "        text-align: right;\n",
       "    }\n",
       "</style>\n",
       "<table border=\"1\" class=\"dataframe\">\n",
       "  <thead>\n",
       "    <tr style=\"text-align: right;\">\n",
       "      <th></th>\n",
       "      <th>Title</th>\n",
       "      <th>Date</th>\n",
       "    </tr>\n",
       "  </thead>\n",
       "  <tbody>\n",
       "    <tr>\n",
       "      <th>0</th>\n",
       "      <td>Russian Doll: Season 2: Station to Station</td>\n",
       "      <td>5/4/2022</td>\n",
       "    </tr>\n",
       "    <tr>\n",
       "      <th>1</th>\n",
       "      <td>Russian Doll: Season 2: Brain Drain</td>\n",
       "      <td>5/3/2022</td>\n",
       "    </tr>\n",
       "    <tr>\n",
       "      <th>2</th>\n",
       "      <td>Russian Doll: Season 2: Coney Island Baby</td>\n",
       "      <td>4/26/2022</td>\n",
       "    </tr>\n",
       "    <tr>\n",
       "      <th>3</th>\n",
       "      <td>Russian Doll: Season 2: Nowhen</td>\n",
       "      <td>4/26/2022</td>\n",
       "    </tr>\n",
       "    <tr>\n",
       "      <th>4</th>\n",
       "      <td>Eternally Confused and Eager for Love: Season ...</td>\n",
       "      <td>4/10/2022</td>\n",
       "    </tr>\n",
       "    <tr>\n",
       "      <th>...</th>\n",
       "      <td>...</td>\n",
       "      <td>...</td>\n",
       "    </tr>\n",
       "    <tr>\n",
       "      <th>1967</th>\n",
       "      <td>The OA: Part I: Chapter 4: Away</td>\n",
       "      <td>12/22/2016</td>\n",
       "    </tr>\n",
       "    <tr>\n",
       "      <th>1968</th>\n",
       "      <td>The OA: Part I: Chapter 3: Champion</td>\n",
       "      <td>12/22/2016</td>\n",
       "    </tr>\n",
       "    <tr>\n",
       "      <th>1969</th>\n",
       "      <td>The OA: Part I: Chapter 2: New Colossus</td>\n",
       "      <td>12/22/2016</td>\n",
       "    </tr>\n",
       "    <tr>\n",
       "      <th>1970</th>\n",
       "      <td>The OA: Part I: Chapter 1: Homecoming</td>\n",
       "      <td>12/22/2016</td>\n",
       "    </tr>\n",
       "    <tr>\n",
       "      <th>1971</th>\n",
       "      <td>The Imitation Game</td>\n",
       "      <td>12/21/2016</td>\n",
       "    </tr>\n",
       "  </tbody>\n",
       "</table>\n",
       "<p>1972 rows × 2 columns</p>\n",
       "</div>"
      ],
      "text/plain": [
       "                                                  Title        Date\n",
       "0            Russian Doll: Season 2: Station to Station    5/4/2022\n",
       "1                   Russian Doll: Season 2: Brain Drain    5/3/2022\n",
       "2             Russian Doll: Season 2: Coney Island Baby   4/26/2022\n",
       "3                        Russian Doll: Season 2: Nowhen   4/26/2022\n",
       "4     Eternally Confused and Eager for Love: Season ...   4/10/2022\n",
       "...                                                 ...         ...\n",
       "1967                    The OA: Part I: Chapter 4: Away  12/22/2016\n",
       "1968                The OA: Part I: Chapter 3: Champion  12/22/2016\n",
       "1969            The OA: Part I: Chapter 2: New Colossus  12/22/2016\n",
       "1970              The OA: Part I: Chapter 1: Homecoming  12/22/2016\n",
       "1971                                 The Imitation Game  12/21/2016\n",
       "\n",
       "[1972 rows x 2 columns]"
      ]
     },
     "execution_count": 3,
     "metadata": {},
     "output_type": "execute_result"
    }
   ],
   "source": [
    "Df = pd.read_csv(r'C:\\Users\\USER\\Downloads\\Netflix_Viewing_History.csv')\n",
    "Df"
   ]
  },
  {
   "cell_type": "code",
   "execution_count": 4,
   "metadata": {},
   "outputs": [
    {
     "data": {
      "text/plain": [
       "(1972, 2)"
      ]
     },
     "execution_count": 4,
     "metadata": {},
     "output_type": "execute_result"
    }
   ],
   "source": [
    "Df.shape"
   ]
  },
  {
   "cell_type": "code",
   "execution_count": 5,
   "metadata": {},
   "outputs": [
    {
     "data": {
      "text/plain": [
       "10"
      ]
     },
     "execution_count": 5,
     "metadata": {},
     "output_type": "execute_result"
    }
   ],
   "source": [
    "#Nuber of times Designated Survivor was watched\n",
    "DS = Df['Title'].apply(lambda title: 'Designated Survivor' in   title).sum()\n",
    "DS"
   ]
  },
  {
   "cell_type": "code",
   "execution_count": 6,
   "metadata": {},
   "outputs": [
    {
     "data": {
      "text/html": [
       "<div>\n",
       "<style scoped>\n",
       "    .dataframe tbody tr th:only-of-type {\n",
       "        vertical-align: middle;\n",
       "    }\n",
       "\n",
       "    .dataframe tbody tr th {\n",
       "        vertical-align: top;\n",
       "    }\n",
       "\n",
       "    .dataframe thead th {\n",
       "        text-align: right;\n",
       "    }\n",
       "</style>\n",
       "<table border=\"1\" class=\"dataframe\">\n",
       "  <thead>\n",
       "    <tr style=\"text-align: right;\">\n",
       "      <th></th>\n",
       "      <th>Title</th>\n",
       "      <th>Date</th>\n",
       "    </tr>\n",
       "  </thead>\n",
       "  <tbody>\n",
       "    <tr>\n",
       "      <th>413</th>\n",
       "      <td>Bridgerton: Season 1: An Affair of Honor</td>\n",
       "      <td>1/8/2021</td>\n",
       "    </tr>\n",
       "    <tr>\n",
       "      <th>414</th>\n",
       "      <td>Bridgerton: Season 1: Art of the Swoon</td>\n",
       "      <td>1/8/2021</td>\n",
       "    </tr>\n",
       "    <tr>\n",
       "      <th>415</th>\n",
       "      <td>Bridgerton: Season 1: Shock and Delight</td>\n",
       "      <td>1/8/2021</td>\n",
       "    </tr>\n",
       "    <tr>\n",
       "      <th>416</th>\n",
       "      <td>Bridgerton: Season 1: Diamond of the First Water</td>\n",
       "      <td>1/8/2021</td>\n",
       "    </tr>\n",
       "    <tr>\n",
       "      <th>409</th>\n",
       "      <td>Bridgerton: Season 1: After the Rain</td>\n",
       "      <td>1/9/2021</td>\n",
       "    </tr>\n",
       "    <tr>\n",
       "      <th>410</th>\n",
       "      <td>Bridgerton: Season 1: Oceans Apart</td>\n",
       "      <td>1/9/2021</td>\n",
       "    </tr>\n",
       "    <tr>\n",
       "      <th>411</th>\n",
       "      <td>Bridgerton: Season 1: Swish</td>\n",
       "      <td>1/9/2021</td>\n",
       "    </tr>\n",
       "    <tr>\n",
       "      <th>412</th>\n",
       "      <td>Bridgerton: Season 1: The Duke and I</td>\n",
       "      <td>1/9/2021</td>\n",
       "    </tr>\n",
       "    <tr>\n",
       "      <th>15</th>\n",
       "      <td>Bridgerton: Season 2: Capital R Rake</td>\n",
       "      <td>3/26/2022</td>\n",
       "    </tr>\n",
       "    <tr>\n",
       "      <th>13</th>\n",
       "      <td>Bridgerton: Season 2: A Bee in Your Bonnet</td>\n",
       "      <td>3/30/2022</td>\n",
       "    </tr>\n",
       "    <tr>\n",
       "      <th>14</th>\n",
       "      <td>Bridgerton: Season 2: Off to the Races</td>\n",
       "      <td>3/30/2022</td>\n",
       "    </tr>\n",
       "    <tr>\n",
       "      <th>11</th>\n",
       "      <td>Bridgerton: Season 2: An Unthinkable Fate</td>\n",
       "      <td>3/31/2022</td>\n",
       "    </tr>\n",
       "    <tr>\n",
       "      <th>12</th>\n",
       "      <td>Bridgerton: Season 2: Victory</td>\n",
       "      <td>3/31/2022</td>\n",
       "    </tr>\n",
       "    <tr>\n",
       "      <th>10</th>\n",
       "      <td>Bridgerton: Season 2: The Choice</td>\n",
       "      <td>4/2/2022</td>\n",
       "    </tr>\n",
       "    <tr>\n",
       "      <th>9</th>\n",
       "      <td>Bridgerton: Season 2: Harmony</td>\n",
       "      <td>4/3/2022</td>\n",
       "    </tr>\n",
       "    <tr>\n",
       "      <th>8</th>\n",
       "      <td>Bridgerton: Season 2: The Viscount Who Loved Me</td>\n",
       "      <td>4/4/2022</td>\n",
       "    </tr>\n",
       "  </tbody>\n",
       "</table>\n",
       "</div>"
      ],
      "text/plain": [
       "                                                Title       Date\n",
       "413          Bridgerton: Season 1: An Affair of Honor   1/8/2021\n",
       "414            Bridgerton: Season 1: Art of the Swoon   1/8/2021\n",
       "415           Bridgerton: Season 1: Shock and Delight   1/8/2021\n",
       "416  Bridgerton: Season 1: Diamond of the First Water   1/8/2021\n",
       "409              Bridgerton: Season 1: After the Rain   1/9/2021\n",
       "410                Bridgerton: Season 1: Oceans Apart   1/9/2021\n",
       "411                       Bridgerton: Season 1: Swish   1/9/2021\n",
       "412              Bridgerton: Season 1: The Duke and I   1/9/2021\n",
       "15               Bridgerton: Season 2: Capital R Rake  3/26/2022\n",
       "13         Bridgerton: Season 2: A Bee in Your Bonnet  3/30/2022\n",
       "14             Bridgerton: Season 2: Off to the Races  3/30/2022\n",
       "11          Bridgerton: Season 2: An Unthinkable Fate  3/31/2022\n",
       "12                      Bridgerton: Season 2: Victory  3/31/2022\n",
       "10                   Bridgerton: Season 2: The Choice   4/2/2022\n",
       "9                       Bridgerton: Season 2: Harmony   4/3/2022\n",
       "8     Bridgerton: Season 2: The Viscount Who Loved Me   4/4/2022"
      ]
     },
     "execution_count": 6,
     "metadata": {},
     "output_type": "execute_result"
    }
   ],
   "source": [
    "#Starting date of watching the show Bridgerton\n",
    "Df.loc[[\"Bridgerton\" in title for title in Df[\"Title\"]],:].sort_values(\"Date\", ascending= True)"
   ]
  },
  {
   "cell_type": "code",
   "execution_count": 7,
   "metadata": {},
   "outputs": [
    {
     "data": {
      "text/plain": [
       "0        True\n",
       "1        True\n",
       "2        True\n",
       "3        True\n",
       "4        True\n",
       "        ...  \n",
       "1967     True\n",
       "1968     True\n",
       "1969     True\n",
       "1970     True\n",
       "1971    False\n",
       "Name: Title, Length: 1972, dtype: bool"
      ]
     },
     "execution_count": 7,
     "metadata": {},
     "output_type": "execute_result"
    }
   ],
   "source": [
    "#Percentage of what is watched is on Netflix or a show\n",
    "#Identify whether each title is from a show:\n",
    "Df[\"Title\"].apply(lambda title: \"Season\" in title or \"Chapter\" in title)"
   ]
  },
  {
   "cell_type": "code",
   "execution_count": 8,
   "metadata": {},
   "outputs": [
    {
     "data": {
      "text/plain": [
       "0.9031440162271805"
      ]
     },
     "execution_count": 8,
     "metadata": {},
     "output_type": "execute_result"
    }
   ],
   "source": [
    "#Compute the proportion of Netflix viewing spent on watching shows:\n",
    "Df[\"Title\"].apply(lambda title:\"Season\" in title or \"Chapter\" in title).sum()/len(Df[\"Title\"].apply(lambda title:\"Season\"in title or \"Chapter\" in title))"
   ]
  },
  {
   "cell_type": "code",
   "execution_count": 10,
   "metadata": {},
   "outputs": [
    {
     "data": {
      "text/plain": [
       "90.31440162271805"
      ]
     },
     "execution_count": 10,
     "metadata": {},
     "output_type": "execute_result"
    }
   ],
   "source": [
    "#Convering the proportion to percentage and saving to a variable:\n",
    "show_percentage= Df[\"Title\"].apply(lambda title: \"Season\" in title or \"Chapter\" in title).sum()/len(Df[\"Title\"].apply(lambda title: \"Season\" in title or \"Chapter\" in title ))*100\n",
    "show_percentage"
   ]
  },
  {
   "cell_type": "code",
   "execution_count": 11,
   "metadata": {},
   "outputs": [
    {
     "data": {
      "text/plain": [
       "9.685598377281949"
      ]
     },
     "execution_count": 11,
     "metadata": {},
     "output_type": "execute_result"
    }
   ],
   "source": [
    "#Hence movie percentage is:\n",
    "movie_percentage= 100- show_percentage\n",
    "movie_percentage"
   ]
  }
 ],
 "metadata": {
  "kernelspec": {
   "display_name": "Python 3.9.7 ('base')",
   "language": "python",
   "name": "python3"
  },
  "language_info": {
   "codemirror_mode": {
    "name": "ipython",
    "version": 3
   },
   "file_extension": ".py",
   "mimetype": "text/x-python",
   "name": "python",
   "nbconvert_exporter": "python",
   "pygments_lexer": "ipython3",
   "version": "3.9.7"
  },
  "orig_nbformat": 4,
  "vscode": {
   "interpreter": {
    "hash": "263930470851f494f0ed2879c35b57985588df20f9e529b86e97dd5eb9ddc466"
   }
  }
 },
 "nbformat": 4,
 "nbformat_minor": 2
}
